{
  "cells": [
    {
      "cell_type": "code",
      "execution_count": 1,
      "metadata": {
        "colab": {
          "base_uri": "https://localhost:8080/"
        },
        "id": "Hz8bVlzitG1i",
        "outputId": "e6a9ab47-c94a-4a50-bdff-8ff76d9cf487"
      },
      "outputs": [
        {
          "name": "stderr",
          "output_type": "stream",
          "text": [
            "WARNING:absl:Compiled the loaded model, but the compiled metrics have yet to be built. `model.compile_metrics` will be empty until you train or evaluate the model.\n"
          ]
        },
        {
          "name": "stdout",
          "output_type": "stream",
          "text": [
            "\u001b[1m1/1\u001b[0m \u001b[32m━━━━━━━━━━━━━━━━━━━━\u001b[0m\u001b[37m\u001b[0m \u001b[1m1s\u001b[0m 1s/step\n",
            "Prediction: lymph_fl (64.55%)\n"
          ]
        },
        {
          "data": {
            "text/plain": [
              "('lymph_fl', 64.545738697052)"
            ]
          },
          "execution_count": 1,
          "metadata": {},
          "output_type": "execute_result"
        }
      ],
      "source": [
        "import tensorflow as tf\n",
        "from tensorflow.keras.models import load_model\n",
        "from tensorflow.keras.preprocessing import image\n",
        "import numpy as np\n",
        "\n",
        "# Load the trained model\n",
        "model_path = '/Users/tkarim45/Downloads/Lymphoma_classification/Lymphoma classification1.h5'  # Replace with your model's filename\n",
        "model = load_model(model_path)\n",
        "\n",
        "# Define image properties\n",
        "img_size = (224, 224)  # match the training size\n",
        "class_labels = ['lymph_cll','lymph_fl','lymph_mcl']  # alphabetical order by default\n",
        "\n",
        "# Function to preprocess input image\n",
        "def preprocess_image(img_path):\n",
        "    img = image.load_img(img_path, target_size=img_size)\n",
        "    img_array = image.img_to_array(img) / 255.0  # normalize\n",
        "    img_array = np.expand_dims(img_array, axis=0)  # shape: (1, 224, 224, 3)\n",
        "    return img_array\n",
        "\n",
        "# Function to predict class of input image\n",
        "def predict_image(img_path):\n",
        "    img_array = preprocess_image(img_path)\n",
        "    prediction = model.predict(img_array)[0]\n",
        "    predicted_index = np.argmax(prediction)\n",
        "    predicted_label = class_labels[predicted_index]\n",
        "    confidence = prediction[predicted_index] * 100\n",
        "\n",
        "    print(f\"Prediction: {predicted_label} ({confidence:.2f}%)\")\n",
        "    return predicted_label, confidence\n",
        "\n",
        "# Example usage\n",
        "image_path = '/Users/tkarim45/Downloads/Lymphoma_classification/lymph_fll_0001.jpg'  # Replace with actual image path\n",
        "predict_image(image_path)\n"
      ]
    },
    {
      "cell_type": "code",
      "execution_count": null,
      "metadata": {
        "id": "gtYYPznRvPGO"
      },
      "outputs": [],
      "source": []
    }
  ],
  "metadata": {
    "accelerator": "GPU",
    "colab": {
      "gpuType": "T4",
      "provenance": []
    },
    "kernelspec": {
      "display_name": "personal",
      "language": "python",
      "name": "python3"
    },
    "language_info": {
      "codemirror_mode": {
        "name": "ipython",
        "version": 3
      },
      "file_extension": ".py",
      "mimetype": "text/x-python",
      "name": "python",
      "nbconvert_exporter": "python",
      "pygments_lexer": "ipython3",
      "version": "3.9.19"
    }
  },
  "nbformat": 4,
  "nbformat_minor": 0
}
