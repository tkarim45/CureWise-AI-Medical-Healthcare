{
 "cells": [
  {
   "cell_type": "code",
   "execution_count": 19,
   "id": "db0c2d48",
   "metadata": {},
   "outputs": [
    {
     "name": "stdout",
     "output_type": "stream",
     "text": [
      "Model loaded successfully\n",
      "Prediction result: {'predicted_class': 'Normal', 'confidence': 7.963675022125244}\n"
     ]
    }
   ],
   "source": [
    "import numpy as np\n",
    "from PIL import Image\n",
    "from tensorflow.keras.models import load_model\n",
    "import tensorflow as tf\n",
    "import os\n",
    "import gc\n",
    "\n",
    "# Force TensorFlow to use CPU to avoid Metal plugin issues on M1\n",
    "os.environ[\"TF_FORCE_GPU_ALLOW_GROWTH\"] = \"true\"\n",
    "tf.config.set_visible_devices([], 'GPU')  # Disable GPU\n",
    "gc.collect()  # Clear memory\n",
    "\n",
    "# Load the model\n",
    "try:\n",
    "    model_path = '/Users/tkarim45/Documents/Personal Github Repositories/CureWise-AI-Medical-Healthcare/backend/data/kidney_disease/kidney_ct_model_1.h5'\n",
    "    if not os.path.exists(model_path):\n",
    "        raise FileNotFoundError(f\"Model file not found at {model_path}\")\n",
    "    model = load_model(model_path, compile=False)\n",
    "    print(\"Model loaded successfully\")\n",
    "except Exception as e:\n",
    "    print(f\"Error loading model: {e}\")\n",
    "    raise\n",
    "\n",
    "def predict(image_path):\n",
    "    \"\"\"\n",
    "    Predict the class of the given image using the loaded model.\n",
    "    \n",
    "    :param image_path: Path to the image file to be classified.\n",
    "    :return: Dictionary with predicted class and confidence.\n",
    "    \"\"\"\n",
    "    try:\n",
    "        # Check if image file exists\n",
    "        if not os.path.exists(image_path):\n",
    "            raise FileNotFoundError(f\"Image file not found at {image_path}\")\n",
    "\n",
    "        class_labels = ['Cyst', 'Normal', 'Stone']\n",
    "        \n",
    "        # Load and preprocess the image\n",
    "        image = Image.open(image_path).convert('RGB')\n",
    "        image = image.resize((28, 28))\n",
    "        image = np.array(image, dtype=np.float32) / 255.0\n",
    "        image = np.expand_dims(image, axis=0)  # Add batch dimension\n",
    "\n",
    "        # Make prediction\n",
    "        predictions = model.predict(image, verbose=0)\n",
    "        predicted_class = np.argmax(predictions[0])\n",
    "        predicted_label = class_labels[predicted_class]\n",
    "        confidence = float(np.max(predictions[0]))\n",
    "\n",
    "        return {\n",
    "            \"predicted_class\": predicted_label,\n",
    "            \"confidence\": confidence\n",
    "        }\n",
    "    except Exception as e:\n",
    "        print(f\"Error in prediction: {e}\")\n",
    "        return {\"error\": str(e)}\n",
    "\n",
    "# Test prediction\n",
    "try:\n",
    "    image_path = '/Users/tkarim45/Downloads/Normal/Normal- (1009).jpg'\n",
    "    result = predict(image_path)\n",
    "    print(\"Prediction result:\", result)\n",
    "except Exception as e:\n",
    "    print(f\"Error during prediction: {e}\")\n"
   ]
  },
  {
   "cell_type": "code",
   "execution_count": null,
   "id": "0a388822",
   "metadata": {},
   "outputs": [],
   "source": []
  }
 ],
 "metadata": {
  "kernelspec": {
   "display_name": "personal",
   "language": "python",
   "name": "python3"
  },
  "language_info": {
   "codemirror_mode": {
    "name": "ipython",
    "version": 3
   },
   "file_extension": ".py",
   "mimetype": "text/x-python",
   "name": "python",
   "nbconvert_exporter": "python",
   "pygments_lexer": "ipython3",
   "version": "3.9.19"
  }
 },
 "nbformat": 4,
 "nbformat_minor": 5
}
